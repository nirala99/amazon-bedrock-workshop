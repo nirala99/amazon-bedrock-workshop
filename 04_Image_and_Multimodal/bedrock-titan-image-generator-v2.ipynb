{
 "cells": [
  {
   "cell_type": "markdown",
   "id": "6eaa0028",
   "metadata": {},
   "source": [
    "# Generating images using Amazon Titan Image Generator v2\n",
    "\n",
    "> ☝️ This notebook should work well with the **`Data Science 3.0`** kernel in Amazon SageMaker Studio and with the **`conda_python3`** in a Amazon SageMaker Notebook Instance.\n",
    "\n",
    "---\n",
    "\n",
    "# Introduction\n",
    "\n",
    "Welcome to the Amazon Titan Image Generator v2 Workshop! In this hands-on session, we'll explore the powerful capabilities of Amazon Titan Generator v2 to create compelling marketing materials for Octank, a premium dog food company.\n",
    "\n",
    "### Workshop Objectives\n",
    "\n",
    "By the end of this workshop, you will:\n",
    "\n",
    "1. Understand the key features of Amazon Titan Image Generator v2\n",
    "\n",
    "2. Learn how to use these features to create  marketing materials for a real-world scenario\n",
    "\n",
    "3. Gain hands-on experience with the Amazon Bedrock API for image generation tasks\n",
    "\n",
    "### Features We'll Use\n",
    "\n",
    "During the workshop, we'll leverage the following features of Amazon Titan Image Generator v2:\n",
    "\n",
    "1. **Text-to-Image**: To create a symbolic dog image for Octank\n",
    "\n",
    "2. **Image Conditioning**: To create initial product package designs based on previous product's marketing images\n",
    "\n",
    "3. **Color Conditioning**: To generate product design images adhere to Octank's brand color palette\n",
    "\n",
    "4. **Background Removal**: To isolate product images for use in various marketing materials.\n",
    "\n"
   ]
  },
  {
   "cell_type": "markdown",
   "id": "ce815609",
   "metadata": {},
   "source": [
    "## Setup\n",
    "\n",
    "⚠️ ⚠️ ⚠️ Before running this notebook, make sure you've completed the setup in the ['Getting Started' section of the root README](https://github.com/aws-samples/amazon-bedrock-workshop/blob/main/README.md#Getting-started). ⚠️ ⚠️ ⚠️\n"
   ]
  },
  {
   "cell_type": "code",
   "execution_count": null,
   "id": "96b28fc1",
   "metadata": {
    "tags": []
   },
   "outputs": [],
   "source": [
    "# Built-in libraries\n",
    "import base64\n",
    "import io\n",
    "import json\n",
    "import os\n",
    "import sys\n",
    "\n",
    "# External dependencies\n",
    "import boto3\n",
    "import botocore\n",
    "import numpy as np\n",
    "import matplotlib.pyplot as plt\n",
    "\n",
    "from PIL import Image\n",
    "\n",
    "boto3_bedrock = boto3.client('bedrock-runtime')"
   ]
  },
  {
   "cell_type": "code",
   "execution_count": null,
   "id": "e030a9aa",
   "metadata": {
    "tags": []
   },
   "outputs": [],
   "source": [
    "# Define plot function\n",
    "def plot_images(base_images, prompt=None, seed=None, ref_image_path=None, color_codes=None, original_title=None, processed_title=None):\n",
    "    if ref_image_path and color_codes:\n",
    "        fig, axes = plt.subplots(1, 3, figsize=(15, 5))\n",
    "        num_subplots = 3\n",
    "    elif ref_image_path or color_codes:\n",
    "        fig, axes = plt.subplots(1, 2, figsize=(12, 5))\n",
    "        num_subplots = 2\n",
    "    else:\n",
    "        fig, axes = plt.subplots(1, 1, figsize=(6, 5))\n",
    "        num_subplots = 1\n",
    "    \n",
    "    axes = np.array(axes).ravel() \n",
    "    \n",
    "    current_subplot = 0\n",
    "    \n",
    "    if color_codes:\n",
    "        num_colors = len(color_codes)\n",
    "        color_width = 0.8 / num_colors\n",
    "        for i, color_code in enumerate(color_codes):\n",
    "            x = i * color_width\n",
    "            rect = plt.Rectangle((x, 0), color_width, 1, facecolor=f'{color_code}', edgecolor='white')\n",
    "            axes[current_subplot].add_patch(rect)\n",
    "        axes[current_subplot].set_xlim(0, 0.8)\n",
    "        axes[current_subplot].set_ylim(0, 1)\n",
    "        axes[current_subplot].set_title('Color Codes')\n",
    "        axes[current_subplot].axis('off')\n",
    "        current_subplot += 1\n",
    "    \n",
    "    if ref_image_path:\n",
    "        reference_image = Image.open(ref_image_path)\n",
    "        max_size = (512, 512)\n",
    "        reference_image.thumbnail(max_size)\n",
    "        axes[current_subplot].imshow(np.array(reference_image))\n",
    "        axes[current_subplot].set_title(original_title or 'Reference Image')\n",
    "        axes[current_subplot].axis('off')\n",
    "        current_subplot += 1\n",
    "    \n",
    "    axes[current_subplot].imshow(np.array(base_images[0]))\n",
    "    if processed_title:\n",
    "        axes[current_subplot].set_title(processed_title)\n",
    "    elif ref_image_path and seed is not None:\n",
    "        axes[current_subplot].set_title(f'Image Generated Based on Reference\\nSeed: {seed}')\n",
    "    elif seed is not None:\n",
    "        axes[current_subplot].set_title(f'Image Generated\\nSeed: {seed}')\n",
    "    else:\n",
    "        axes[current_subplot].set_title('Processed Image')\n",
    "    axes[current_subplot].axis('off')\n",
    "    \n",
    "    if prompt:\n",
    "        print(f\"Prompt: {prompt}\\n\")\n",
    "    \n",
    "    plt.tight_layout()\n",
    "    plt.show()"
   ]
  },
  {
   "cell_type": "markdown",
   "id": "7753850b",
   "metadata": {},
   "source": [
    "# Use Case\n",
    "\n",
    "## Text-to-Image"
   ]
  },
  {
   "cell_type": "markdown",
   "id": "4723c801",
   "metadata": {},
   "source": [
    "First, let's use TIG v2 Text-to-Image capability to create a symbolic dog image for Octank. \n",
    "\n",
    "Like TIG v1, in text-to-image mode, we provide a text description (prompt) of the image that should be generated. The parameters can be specified include:\n",
    "\n",
    "* `cfgscale` - determines how much the final image reflects the prompt\n",
    "* `seed` - a number used to initialize the generation, using the same seed with the same prompt + settings combination will produce the same results\n",
    "* `numberOfImages` - the number of times the image is sampled and produced\n",
    "* `quality` - determines the output image quality (`standard` or `premium`)\n",
    "\n",
    "> ☝️ For more information on available input parameters for the model, refer to the [Amazon Bedrock User Guide](https://docs.aws.amazon.com/bedrock/latest/userguide/model-parameters-titan-image.html#model-parameters-titan-img-request-body) (Inference parameters > Amazon Titan image models > Model invocation request body fields).\n",
    "\n",
    "The cell below invokes the Amazon Titan Image Generator v2 model through Amazon Bedrock to create a symbolic dog image for Octank:"
   ]
  },
  {
   "cell_type": "code",
   "execution_count": null,
   "id": "aa4a0837",
   "metadata": {
    "tags": []
   },
   "outputs": [],
   "source": [
    "prompt = \"Generate a photo of a happy and healthy American Eskimo sitting on the grass with a food bowl full of kibble nearby\"\n",
    "negative_prompts = \"low resolution, low quality\""
   ]
  },
  {
   "cell_type": "code",
   "execution_count": null,
   "id": "76aa9223",
   "metadata": {
    "tags": []
   },
   "outputs": [],
   "source": [
    "# Create payload\n",
    "body = json.dumps(\n",
    "    {\n",
    "        \"taskType\": \"TEXT_IMAGE\",\n",
    "        \"textToImageParams\": {\n",
    "            \"text\": prompt,                    # Required\n",
    "            \"negativeText\": negative_prompts   # Optional\n",
    "        },\n",
    "        \"imageGenerationConfig\": {\n",
    "            \"numberOfImages\": 1,   # Range: 1 to 5 \n",
    "            \"quality\": \"standard\",  # Options: standard or premium\n",
    "            \"height\": 1024,        # Supported height list in the docs \n",
    "            \"width\": 1024,         # Supported width list in the docs\n",
    "            \"cfgScale\": 8,       # Range: 1.0 (exclusive) to 10.0\n",
    "            \"seed\": 42     # Range: 0 to 214783647\n",
    "        }\n",
    "    }\n",
    ")\n",
    "\n",
    "# Make model request\n",
    "response = boto3_bedrock.invoke_model(\n",
    "    body=body,\n",
    "    modelId=\"amazon.titan-image-generator-v2:0\",\n",
    "    accept=\"application/json\", \n",
    "    contentType=\"application/json\"\n",
    ")\n",
    "\n",
    "# Process the image\n",
    "response_body = json.loads(response.get(\"body\").read())\n",
    "\n",
    "\n",
    "# plot images\n",
    "images = [\n",
    "    Image.open(io.BytesIO(base64.b64decode(base64_image)))\n",
    "    for base64_image in response_body.get(\"images\")\n",
    "]\n",
    "\n",
    "plot_images(images, processed_title=\"Generated Image\")"
   ]
  },
  {
   "cell_type": "markdown",
   "id": "7fecbb60",
   "metadata": {},
   "source": [
    "## Image Conditioning"
   ]
  },
  {
   "cell_type": "markdown",
   "id": "2c4413a7",
   "metadata": {},
   "source": [
    "In our previous section, we generated a realistic photo of a happy Eskimo dog enjoying Octank's dog food. Now, let's explore how we can use image conditioning to create variations and expand our visual brand. \n",
    "\n",
    "Amazon Titan Image Generator v2 offers two image conditioning modes:\n",
    "\n",
    "- Canny Edge: Extract prominent edges from the reference image to guide the generation process.\n",
    "\n",
    "- Segmentation: Define specific regions/objects within the reference image for the model to generate content aligned with those areas.\n",
    "\n",
    "Main parameters can be specified include:\n",
    "\n",
    "* `text` - (Required) A text prompt to generate the image, must be <= 512 characters\n",
    "* `negativeText` - (Optional) A text prompt to define what not to include in the image, must be <= 512 characters\n",
    "* `conditionImage` - (Optional, V2 only) A base64-encoded string representing an input image to guide the layout and composition of the generated image\n",
    "* `controlMode` - (Optional, V2 only) Specifies the type of conditioning mode: `CANNY_EDGE` (default) or `SEGMENTATION`\n",
    "* `controlStrength` - (Optional, V2 only) Determines how similar the generated image should be to the condition image, range 0 to 1.0 (default: 0.7)\n",
    "* `numberOfImages` - The number of images to generate\n",
    "* `height` - The height of the generated image(s)\n",
    "* `width` - The width of the generated image(s)\n",
    "* `cfgScale` - Determines how closely the image adheres to the prompt\n",
    "* `seed` - An integer used to initialize the image generation process\n",
    "\n",
    "Note: The longer side of the image resolution must be <= 1,408 pixels. If `controlMode` or `controlStrength` are provided, `conditionImage` must also be provided."
   ]
  },
  {
   "cell_type": "markdown",
   "id": "87aa77ae",
   "metadata": {},
   "source": [
    "#### 1. Canny Edge Mode:\n",
    "\n",
    "We will use our Eskimo dog image to generate a cartoon-style dog in a fairy world, keeping the same general pose and composition."
   ]
  },
  {
   "cell_type": "code",
   "execution_count": null,
   "id": "ab9a667a",
   "metadata": {
    "tags": []
   },
   "outputs": [],
   "source": [
    "# Define the prompt, reference image\n",
    "prompt = \"a cartoon dog with dog food in a fairy world\"\n",
    "reference_image_path = \"images/generated_dog.png\"\n",
    "seed = 0 # Can be any random number between 0 to 214783647"
   ]
  },
  {
   "cell_type": "code",
   "execution_count": null,
   "id": "b2e3bd56",
   "metadata": {
    "tags": []
   },
   "outputs": [],
   "source": [
    "# Encode the reference image\n",
    "with open(reference_image_path, \"rb\") as image_file:\n",
    "    reference_image_base64 = base64.b64encode(image_file.read()).decode(\"utf-8\")\n",
    "    \n",
    "# Generate image condition on reference image\n",
    "body = json.dumps(\n",
    "    {\n",
    "        \"taskType\": \"TEXT_IMAGE\",\n",
    "        \"textToImageParams\": {\n",
    "            \"text\": prompt,  # Required\n",
    "            \"conditionImage\": reference_image_base64, # Optional\n",
    "            \"controlMode\": \"CANNY_EDGE\", # Optional: CANNY_EDGE | SEGMENTATION\n",
    "            \"controlStrength\": 0.7,  # Range: 0.2 to 1.0,\n",
    "        },\n",
    "        \"imageGenerationConfig\": {\n",
    "                \"numberOfImages\": 1,\n",
    "                \"seed\": seed,\n",
    "            }\n",
    "        \n",
    "    }\n",
    ")\n",
    "\n",
    "response = boto3_bedrock.invoke_model(\n",
    "    body=body, \n",
    "    modelId=\"amazon.titan-image-generator-v2:0\",\n",
    "    accept=\"application/json\", \n",
    "    contentType=\"application/json\"\n",
    ")\n",
    "\n",
    "response_body = json.loads(response.get(\"body\").read())\n",
    "response_images = [\n",
    "    Image.open(io.BytesIO(base64.b64decode(base64_image)))\n",
    "    for base64_image in response_body.get(\"images\")\n",
    "]\n",
    "\n",
    "# plot output\n",
    "plot_images(response_images, ref_image_path = reference_image_path)"
   ]
  },
  {
   "cell_type": "markdown",
   "id": "1b8b1f61",
   "metadata": {},
   "source": [
    "#### 2. Segmentation Mode:\n",
    "\n",
    "We'll start with an image of a dog, house, human and dog food bowl. Then we'll generate varations that keep these components consistent but alter other aspects of the scene."
   ]
  },
  {
   "cell_type": "code",
   "execution_count": null,
   "id": "66259758",
   "metadata": {
    "tags": []
   },
   "outputs": [],
   "source": [
    "# Define the prompt, reference image \n",
    "prompt = \"a happy golden retriever dog loves his dog food during sunset hours\"\n",
    "reference_image_path = \"images/dog_food.png\"\n",
    "seed = 42 # Can be any random number between 0 to 214783647"
   ]
  },
  {
   "cell_type": "code",
   "execution_count": null,
   "id": "a1dec2ef",
   "metadata": {
    "tags": []
   },
   "outputs": [],
   "source": [
    "# Encode the reference image\n",
    "with open(reference_image_path, \"rb\") as image_file:\n",
    "    reference_image_base64 = base64.b64encode(image_file.read()).decode(\"utf-8\")\n",
    "    \n",
    "# Generate image condition on reference image\n",
    "body = json.dumps(\n",
    "    {\n",
    "        \"taskType\": \"TEXT_IMAGE\",\n",
    "        \"textToImageParams\": {\n",
    "            \"text\": prompt,  # Required\n",
    "            \"conditionImage\": reference_image_base64, # Optional\n",
    "            \"controlMode\": \"SEGMENTATION\", # Optional: CANNY_EDGE | SEGMENTATION\n",
    "            \"controlStrength\": 0.7,  # Range: 0.2 to 1.0,\n",
    "        },\n",
    "        \"imageGenerationConfig\": {\n",
    "                \"numberOfImages\": 1,\n",
    "                \"seed\": seed,\n",
    "            }\n",
    "        \n",
    "    }\n",
    ")\n",
    "\n",
    "response = boto3_bedrock.invoke_model(\n",
    "    body=body, \n",
    "    modelId=\"amazon.titan-image-generator-v2:0\",\n",
    "    accept=\"application/json\", \n",
    "    contentType=\"application/json\"\n",
    ")\n",
    "\n",
    "response_body = json.loads(response.get(\"body\").read())\n",
    "response_images = [\n",
    "    Image.open(io.BytesIO(base64.b64decode(base64_image)))\n",
    "    for base64_image in response_body.get(\"images\")\n",
    "]\n",
    "\n",
    "# plot output\n",
    "plot_images(response_images, ref_image_path = reference_image_path)"
   ]
  },
  {
   "cell_type": "markdown",
   "id": "3c8d279f",
   "metadata": {},
   "source": [
    "## Color Conditioning"
   ]
  },
  {
   "cell_type": "markdown",
   "id": "591efafc",
   "metadata": {},
   "source": [
    "Octank has estabished a strong brand identity with a specific color palette. Their primary colors are represented by the following hex codes: #ffe599, #3d85c6, #eeeeee. They want to ensure all their marketing images adhere to this color scheme to strengthen brand recognition. \n",
    "\n",
    "Amazon Titan Image Generator v2's color conditioning feature allows users to generate images that follow a specified color palette. This can be done with or without a reference image.\n",
    "\n",
    "Here's a summary of the parameters for color conditioning:\n",
    "\n",
    "* `text` - (Required) A text prompt to generate the image, must be <= 512 characters\n",
    "* `colors` - (Required) A list of 1 to 10 hex color codes to specify colors in the generated image\n",
    "* `negativeText` - (Optional) A text prompt to define what not to include in the image, must be <= 512 characters\n",
    "* `referenceImage` - (Optional) A base64-encoded string representing an input image to guide the color palette of the generated image\n",
    "* `numberOfImages` - The number of images to generate\n",
    "* `height` - The height of the generated image(s)\n",
    "* `width` - The width of the generated image(s)\n",
    "* `cfgScale` - Determines how closely the image adheres to the prompt\n",
    "* `seed` - An integer used to initialize the image generation process\n"
   ]
  },
  {
   "cell_type": "code",
   "execution_count": null,
   "id": "b8f27cb8",
   "metadata": {
    "tags": []
   },
   "outputs": [],
   "source": [
    "# Define the prompt, color code \n",
    "prompt = \"A happy American Eskimo runs in the blossom yard\"\n",
    "hex_color_code = ['#ffe599', '#3d85c6', '#eeeeee']\n",
    "seed = 50 # Can be any random number between 0 to 214783647"
   ]
  },
  {
   "cell_type": "code",
   "execution_count": null,
   "id": "931c7ff7",
   "metadata": {
    "tags": []
   },
   "outputs": [],
   "source": [
    "# Generate image condition on color palette\n",
    "body = json.dumps({\n",
    "    \"taskType\": \"COLOR_GUIDED_GENERATION\",\n",
    "    \"colorGuidedGenerationParams\": {\n",
    "        \"text\": prompt,\n",
    "        \"colors\": hex_color_code\n",
    "    },\n",
    "    \"imageGenerationConfig\": {\n",
    "        \"numberOfImages\": 1,\n",
    "        \"seed\": seed,\n",
    "    }\n",
    "})\n",
    "\n",
    "response = boto3_bedrock.invoke_model(\n",
    "    body=body, \n",
    "    modelId=\"amazon.titan-image-generator-v2:0\",\n",
    "    accept=\"application/json\", \n",
    "    contentType=\"application/json\"\n",
    ")\n",
    "\n",
    "response_body = json.loads(response.get(\"body\").read())\n",
    "response_images = [\n",
    "    Image.open(io.BytesIO(base64.b64decode(base64_image)))\n",
    "    for base64_image in response_body.get(\"images\")\n",
    "]\n",
    "\n",
    "# plot output\n",
    "plot_images(response_images, color_codes = hex_color_code)"
   ]
  },
  {
   "cell_type": "markdown",
   "id": "a73bf56c",
   "metadata": {},
   "source": [
    "Additionally, users can upload a single reference image that is similar to their desired output. The model will then generate images that follow the style and fashion of this reference image while incorporating the specified color palette."
   ]
  },
  {
   "cell_type": "code",
   "execution_count": null,
   "id": "5c2313d4",
   "metadata": {
    "tags": []
   },
   "outputs": [],
   "source": [
    "# Define the prompt, reference image, color code and path to store the generated images\n",
    "reference_image_path = \"images/impression_style.png\"\n",
    "prompt = \"A happy American Eskimo runs in the blossom yard\"\n",
    "hex_color_code = ['#ffe599', '#3d85c6', '#eeeeee']\n",
    "seed = 121 # Can be any random number between 0 to 214783647"
   ]
  },
  {
   "cell_type": "code",
   "execution_count": null,
   "id": "58e6cde9",
   "metadata": {
    "tags": []
   },
   "outputs": [],
   "source": [
    "# Encode the reference image\n",
    "with open(reference_image_path, \"rb\") as image_file:\n",
    "    reference_image_base64 = base64.b64encode(image_file.read()).decode(\"utf-8\")\n",
    "    \n",
    "    \n",
    "# Generate image condition on color palette\n",
    "body = json.dumps({\n",
    "    \"taskType\": \"COLOR_GUIDED_GENERATION\",\n",
    "    \"colorGuidedGenerationParams\": {\n",
    "        \"text\": prompt,\n",
    "        \"colors\": hex_color_code,\n",
    "        \"referenceImage\": reference_image_base64\n",
    "    },\n",
    "    \"imageGenerationConfig\": {\n",
    "        \"numberOfImages\": 1,\n",
    "        \"seed\": seed,\n",
    "    }\n",
    "})\n",
    "\n",
    "response = boto3_bedrock.invoke_model(\n",
    "    body=body, \n",
    "    modelId=\"amazon.titan-image-generator-v2:0\",\n",
    "    accept=\"application/json\", \n",
    "    contentType=\"application/json\"\n",
    ")\n",
    "\n",
    "response_body = json.loads(response.get(\"body\").read())\n",
    "response_images = [\n",
    "    Image.open(io.BytesIO(base64.b64decode(base64_image)))\n",
    "    for base64_image in response_body.get(\"images\")\n",
    "]\n",
    "\n",
    "\n",
    "# plot output\n",
    "plot_images(response_images, ref_image_path = reference_image_path, color_codes = hex_color_code)"
   ]
  },
  {
   "cell_type": "markdown",
   "id": "1c5cf855",
   "metadata": {},
   "source": [
    "## Background Removal"
   ]
  },
  {
   "cell_type": "markdown",
   "id": "5c7f31a3",
   "metadata": {},
   "source": [
    "Octank has professional photos of their new gourmet dog food. They want to use these images across various marketing materials with different background. In our last use case, we will use Background Removal feature from Titan Image Generator v2 to help Ocktank isolate its product image from their original backgrond.\n",
    "\n",
    "To use this feature, you just need to provide the image the model needs to work with. "
   ]
  },
  {
   "cell_type": "code",
   "execution_count": null,
   "id": "d12e6d28",
   "metadata": {
    "tags": []
   },
   "outputs": [],
   "source": [
    "# Define image needs to be processed and path to store the generated images\n",
    "reference_image_path = \"images/dog_food_pack.png\""
   ]
  },
  {
   "cell_type": "code",
   "execution_count": null,
   "id": "8ef5f432",
   "metadata": {
    "tags": []
   },
   "outputs": [],
   "source": [
    "# Read image from file and encode it as base64 string.\n",
    "with open(reference_image_path, \"rb\") as image_file:\n",
    "    input_image = base64.b64encode(image_file.read()).decode('utf8')\n",
    "\n",
    "body = json.dumps({\n",
    "    \"taskType\": \"BACKGROUND_REMOVAL\",\n",
    "    \"backgroundRemovalParams\": {\n",
    "        \"image\": input_image,\n",
    "    }\n",
    "})\n",
    "\n",
    "response = boto3_bedrock.invoke_model(\n",
    "    body=body, \n",
    "    modelId=\"amazon.titan-image-generator-v2:0\",\n",
    "    accept=\"application/json\", \n",
    "    contentType=\"application/json\"\n",
    ")\n",
    "\n",
    "response_body = json.loads(response.get(\"body\").read())\n",
    "response_images = [\n",
    "    Image.open(io.BytesIO(base64.b64decode(base64_image)))\n",
    "    for base64_image in response_body.get(\"images\")\n",
    "]\n",
    "\n",
    "# plot output\n",
    "plot_images(response_images, ref_image_path= reference_image_path, original_title='Original Image', processed_title='Processed Image without Background')"
   ]
  },
  {
   "cell_type": "markdown",
   "id": "ec210f22",
   "metadata": {},
   "source": [
    "# Summary"
   ]
  },
  {
   "cell_type": "markdown",
   "id": "78849103",
   "metadata": {},
   "source": [
    "In this workshop, we explored the powerful features of Amazon Titan Image Generator v2 through the lens of Octank, a premium dog food company. We covered:\n",
    "\n",
    "- Text-to-Image Generaion\n",
    "- Image Conditioning\n",
    "- Color Conditioning\n",
    "- Background Removal\n",
    "\n",
    "These tools enable Octank to efficiently create diverse, high-quality visuals for their marketing campaigns, maintaining brand consistency while adapting to various styles.\n",
    "\n",
    "You can now leverage this GenAI-powered image generation to enhance your own creative workflows!"
   ]
  }
 ],
 "metadata": {
  "availableInstances": [
   {
    "_defaultOrder": 0,
    "_isFastLaunch": true,
    "category": "General purpose",
    "gpuNum": 0,
    "hideHardwareSpecs": false,
    "memoryGiB": 4,
    "name": "ml.t3.medium",
    "vcpuNum": 2
   },
   {
    "_defaultOrder": 1,
    "_isFastLaunch": false,
    "category": "General purpose",
    "gpuNum": 0,
    "hideHardwareSpecs": false,
    "memoryGiB": 8,
    "name": "ml.t3.large",
    "vcpuNum": 2
   },
   {
    "_defaultOrder": 2,
    "_isFastLaunch": false,
    "category": "General purpose",
    "gpuNum": 0,
    "hideHardwareSpecs": false,
    "memoryGiB": 16,
    "name": "ml.t3.xlarge",
    "vcpuNum": 4
   },
   {
    "_defaultOrder": 3,
    "_isFastLaunch": false,
    "category": "General purpose",
    "gpuNum": 0,
    "hideHardwareSpecs": false,
    "memoryGiB": 32,
    "name": "ml.t3.2xlarge",
    "vcpuNum": 8
   },
   {
    "_defaultOrder": 4,
    "_isFastLaunch": true,
    "category": "General purpose",
    "gpuNum": 0,
    "hideHardwareSpecs": false,
    "memoryGiB": 8,
    "name": "ml.m5.large",
    "vcpuNum": 2
   },
   {
    "_defaultOrder": 5,
    "_isFastLaunch": false,
    "category": "General purpose",
    "gpuNum": 0,
    "hideHardwareSpecs": false,
    "memoryGiB": 16,
    "name": "ml.m5.xlarge",
    "vcpuNum": 4
   },
   {
    "_defaultOrder": 6,
    "_isFastLaunch": false,
    "category": "General purpose",
    "gpuNum": 0,
    "hideHardwareSpecs": false,
    "memoryGiB": 32,
    "name": "ml.m5.2xlarge",
    "vcpuNum": 8
   },
   {
    "_defaultOrder": 7,
    "_isFastLaunch": false,
    "category": "General purpose",
    "gpuNum": 0,
    "hideHardwareSpecs": false,
    "memoryGiB": 64,
    "name": "ml.m5.4xlarge",
    "vcpuNum": 16
   },
   {
    "_defaultOrder": 8,
    "_isFastLaunch": false,
    "category": "General purpose",
    "gpuNum": 0,
    "hideHardwareSpecs": false,
    "memoryGiB": 128,
    "name": "ml.m5.8xlarge",
    "vcpuNum": 32
   },
   {
    "_defaultOrder": 9,
    "_isFastLaunch": false,
    "category": "General purpose",
    "gpuNum": 0,
    "hideHardwareSpecs": false,
    "memoryGiB": 192,
    "name": "ml.m5.12xlarge",
    "vcpuNum": 48
   },
   {
    "_defaultOrder": 10,
    "_isFastLaunch": false,
    "category": "General purpose",
    "gpuNum": 0,
    "hideHardwareSpecs": false,
    "memoryGiB": 256,
    "name": "ml.m5.16xlarge",
    "vcpuNum": 64
   },
   {
    "_defaultOrder": 11,
    "_isFastLaunch": false,
    "category": "General purpose",
    "gpuNum": 0,
    "hideHardwareSpecs": false,
    "memoryGiB": 384,
    "name": "ml.m5.24xlarge",
    "vcpuNum": 96
   },
   {
    "_defaultOrder": 12,
    "_isFastLaunch": false,
    "category": "General purpose",
    "gpuNum": 0,
    "hideHardwareSpecs": false,
    "memoryGiB": 8,
    "name": "ml.m5d.large",
    "vcpuNum": 2
   },
   {
    "_defaultOrder": 13,
    "_isFastLaunch": false,
    "category": "General purpose",
    "gpuNum": 0,
    "hideHardwareSpecs": false,
    "memoryGiB": 16,
    "name": "ml.m5d.xlarge",
    "vcpuNum": 4
   },
   {
    "_defaultOrder": 14,
    "_isFastLaunch": false,
    "category": "General purpose",
    "gpuNum": 0,
    "hideHardwareSpecs": false,
    "memoryGiB": 32,
    "name": "ml.m5d.2xlarge",
    "vcpuNum": 8
   },
   {
    "_defaultOrder": 15,
    "_isFastLaunch": false,
    "category": "General purpose",
    "gpuNum": 0,
    "hideHardwareSpecs": false,
    "memoryGiB": 64,
    "name": "ml.m5d.4xlarge",
    "vcpuNum": 16
   },
   {
    "_defaultOrder": 16,
    "_isFastLaunch": false,
    "category": "General purpose",
    "gpuNum": 0,
    "hideHardwareSpecs": false,
    "memoryGiB": 128,
    "name": "ml.m5d.8xlarge",
    "vcpuNum": 32
   },
   {
    "_defaultOrder": 17,
    "_isFastLaunch": false,
    "category": "General purpose",
    "gpuNum": 0,
    "hideHardwareSpecs": false,
    "memoryGiB": 192,
    "name": "ml.m5d.12xlarge",
    "vcpuNum": 48
   },
   {
    "_defaultOrder": 18,
    "_isFastLaunch": false,
    "category": "General purpose",
    "gpuNum": 0,
    "hideHardwareSpecs": false,
    "memoryGiB": 256,
    "name": "ml.m5d.16xlarge",
    "vcpuNum": 64
   },
   {
    "_defaultOrder": 19,
    "_isFastLaunch": false,
    "category": "General purpose",
    "gpuNum": 0,
    "hideHardwareSpecs": false,
    "memoryGiB": 384,
    "name": "ml.m5d.24xlarge",
    "vcpuNum": 96
   },
   {
    "_defaultOrder": 20,
    "_isFastLaunch": false,
    "category": "General purpose",
    "gpuNum": 0,
    "hideHardwareSpecs": true,
    "memoryGiB": 0,
    "name": "ml.geospatial.interactive",
    "supportedImageNames": [
     "sagemaker-geospatial-v1-0"
    ],
    "vcpuNum": 0
   },
   {
    "_defaultOrder": 21,
    "_isFastLaunch": true,
    "category": "Compute optimized",
    "gpuNum": 0,
    "hideHardwareSpecs": false,
    "memoryGiB": 4,
    "name": "ml.c5.large",
    "vcpuNum": 2
   },
   {
    "_defaultOrder": 22,
    "_isFastLaunch": false,
    "category": "Compute optimized",
    "gpuNum": 0,
    "hideHardwareSpecs": false,
    "memoryGiB": 8,
    "name": "ml.c5.xlarge",
    "vcpuNum": 4
   },
   {
    "_defaultOrder": 23,
    "_isFastLaunch": false,
    "category": "Compute optimized",
    "gpuNum": 0,
    "hideHardwareSpecs": false,
    "memoryGiB": 16,
    "name": "ml.c5.2xlarge",
    "vcpuNum": 8
   },
   {
    "_defaultOrder": 24,
    "_isFastLaunch": false,
    "category": "Compute optimized",
    "gpuNum": 0,
    "hideHardwareSpecs": false,
    "memoryGiB": 32,
    "name": "ml.c5.4xlarge",
    "vcpuNum": 16
   },
   {
    "_defaultOrder": 25,
    "_isFastLaunch": false,
    "category": "Compute optimized",
    "gpuNum": 0,
    "hideHardwareSpecs": false,
    "memoryGiB": 72,
    "name": "ml.c5.9xlarge",
    "vcpuNum": 36
   },
   {
    "_defaultOrder": 26,
    "_isFastLaunch": false,
    "category": "Compute optimized",
    "gpuNum": 0,
    "hideHardwareSpecs": false,
    "memoryGiB": 96,
    "name": "ml.c5.12xlarge",
    "vcpuNum": 48
   },
   {
    "_defaultOrder": 27,
    "_isFastLaunch": false,
    "category": "Compute optimized",
    "gpuNum": 0,
    "hideHardwareSpecs": false,
    "memoryGiB": 144,
    "name": "ml.c5.18xlarge",
    "vcpuNum": 72
   },
   {
    "_defaultOrder": 28,
    "_isFastLaunch": false,
    "category": "Compute optimized",
    "gpuNum": 0,
    "hideHardwareSpecs": false,
    "memoryGiB": 192,
    "name": "ml.c5.24xlarge",
    "vcpuNum": 96
   },
   {
    "_defaultOrder": 29,
    "_isFastLaunch": true,
    "category": "Accelerated computing",
    "gpuNum": 1,
    "hideHardwareSpecs": false,
    "memoryGiB": 16,
    "name": "ml.g4dn.xlarge",
    "vcpuNum": 4
   },
   {
    "_defaultOrder": 30,
    "_isFastLaunch": false,
    "category": "Accelerated computing",
    "gpuNum": 1,
    "hideHardwareSpecs": false,
    "memoryGiB": 32,
    "name": "ml.g4dn.2xlarge",
    "vcpuNum": 8
   },
   {
    "_defaultOrder": 31,
    "_isFastLaunch": false,
    "category": "Accelerated computing",
    "gpuNum": 1,
    "hideHardwareSpecs": false,
    "memoryGiB": 64,
    "name": "ml.g4dn.4xlarge",
    "vcpuNum": 16
   },
   {
    "_defaultOrder": 32,
    "_isFastLaunch": false,
    "category": "Accelerated computing",
    "gpuNum": 1,
    "hideHardwareSpecs": false,
    "memoryGiB": 128,
    "name": "ml.g4dn.8xlarge",
    "vcpuNum": 32
   },
   {
    "_defaultOrder": 33,
    "_isFastLaunch": false,
    "category": "Accelerated computing",
    "gpuNum": 4,
    "hideHardwareSpecs": false,
    "memoryGiB": 192,
    "name": "ml.g4dn.12xlarge",
    "vcpuNum": 48
   },
   {
    "_defaultOrder": 34,
    "_isFastLaunch": false,
    "category": "Accelerated computing",
    "gpuNum": 1,
    "hideHardwareSpecs": false,
    "memoryGiB": 256,
    "name": "ml.g4dn.16xlarge",
    "vcpuNum": 64
   },
   {
    "_defaultOrder": 35,
    "_isFastLaunch": false,
    "category": "Accelerated computing",
    "gpuNum": 1,
    "hideHardwareSpecs": false,
    "memoryGiB": 61,
    "name": "ml.p3.2xlarge",
    "vcpuNum": 8
   },
   {
    "_defaultOrder": 36,
    "_isFastLaunch": false,
    "category": "Accelerated computing",
    "gpuNum": 4,
    "hideHardwareSpecs": false,
    "memoryGiB": 244,
    "name": "ml.p3.8xlarge",
    "vcpuNum": 32
   },
   {
    "_defaultOrder": 37,
    "_isFastLaunch": false,
    "category": "Accelerated computing",
    "gpuNum": 8,
    "hideHardwareSpecs": false,
    "memoryGiB": 488,
    "name": "ml.p3.16xlarge",
    "vcpuNum": 64
   },
   {
    "_defaultOrder": 38,
    "_isFastLaunch": false,
    "category": "Accelerated computing",
    "gpuNum": 8,
    "hideHardwareSpecs": false,
    "memoryGiB": 768,
    "name": "ml.p3dn.24xlarge",
    "vcpuNum": 96
   },
   {
    "_defaultOrder": 39,
    "_isFastLaunch": false,
    "category": "Memory Optimized",
    "gpuNum": 0,
    "hideHardwareSpecs": false,
    "memoryGiB": 16,
    "name": "ml.r5.large",
    "vcpuNum": 2
   },
   {
    "_defaultOrder": 40,
    "_isFastLaunch": false,
    "category": "Memory Optimized",
    "gpuNum": 0,
    "hideHardwareSpecs": false,
    "memoryGiB": 32,
    "name": "ml.r5.xlarge",
    "vcpuNum": 4
   },
   {
    "_defaultOrder": 41,
    "_isFastLaunch": false,
    "category": "Memory Optimized",
    "gpuNum": 0,
    "hideHardwareSpecs": false,
    "memoryGiB": 64,
    "name": "ml.r5.2xlarge",
    "vcpuNum": 8
   },
   {
    "_defaultOrder": 42,
    "_isFastLaunch": false,
    "category": "Memory Optimized",
    "gpuNum": 0,
    "hideHardwareSpecs": false,
    "memoryGiB": 128,
    "name": "ml.r5.4xlarge",
    "vcpuNum": 16
   },
   {
    "_defaultOrder": 43,
    "_isFastLaunch": false,
    "category": "Memory Optimized",
    "gpuNum": 0,
    "hideHardwareSpecs": false,
    "memoryGiB": 256,
    "name": "ml.r5.8xlarge",
    "vcpuNum": 32
   },
   {
    "_defaultOrder": 44,
    "_isFastLaunch": false,
    "category": "Memory Optimized",
    "gpuNum": 0,
    "hideHardwareSpecs": false,
    "memoryGiB": 384,
    "name": "ml.r5.12xlarge",
    "vcpuNum": 48
   },
   {
    "_defaultOrder": 45,
    "_isFastLaunch": false,
    "category": "Memory Optimized",
    "gpuNum": 0,
    "hideHardwareSpecs": false,
    "memoryGiB": 512,
    "name": "ml.r5.16xlarge",
    "vcpuNum": 64
   },
   {
    "_defaultOrder": 46,
    "_isFastLaunch": false,
    "category": "Memory Optimized",
    "gpuNum": 0,
    "hideHardwareSpecs": false,
    "memoryGiB": 768,
    "name": "ml.r5.24xlarge",
    "vcpuNum": 96
   },
   {
    "_defaultOrder": 47,
    "_isFastLaunch": false,
    "category": "Accelerated computing",
    "gpuNum": 1,
    "hideHardwareSpecs": false,
    "memoryGiB": 16,
    "name": "ml.g5.xlarge",
    "vcpuNum": 4
   },
   {
    "_defaultOrder": 48,
    "_isFastLaunch": false,
    "category": "Accelerated computing",
    "gpuNum": 1,
    "hideHardwareSpecs": false,
    "memoryGiB": 32,
    "name": "ml.g5.2xlarge",
    "vcpuNum": 8
   },
   {
    "_defaultOrder": 49,
    "_isFastLaunch": false,
    "category": "Accelerated computing",
    "gpuNum": 1,
    "hideHardwareSpecs": false,
    "memoryGiB": 64,
    "name": "ml.g5.4xlarge",
    "vcpuNum": 16
   },
   {
    "_defaultOrder": 50,
    "_isFastLaunch": false,
    "category": "Accelerated computing",
    "gpuNum": 1,
    "hideHardwareSpecs": false,
    "memoryGiB": 128,
    "name": "ml.g5.8xlarge",
    "vcpuNum": 32
   },
   {
    "_defaultOrder": 51,
    "_isFastLaunch": false,
    "category": "Accelerated computing",
    "gpuNum": 1,
    "hideHardwareSpecs": false,
    "memoryGiB": 256,
    "name": "ml.g5.16xlarge",
    "vcpuNum": 64
   },
   {
    "_defaultOrder": 52,
    "_isFastLaunch": false,
    "category": "Accelerated computing",
    "gpuNum": 4,
    "hideHardwareSpecs": false,
    "memoryGiB": 192,
    "name": "ml.g5.12xlarge",
    "vcpuNum": 48
   },
   {
    "_defaultOrder": 53,
    "_isFastLaunch": false,
    "category": "Accelerated computing",
    "gpuNum": 4,
    "hideHardwareSpecs": false,
    "memoryGiB": 384,
    "name": "ml.g5.24xlarge",
    "vcpuNum": 96
   },
   {
    "_defaultOrder": 54,
    "_isFastLaunch": false,
    "category": "Accelerated computing",
    "gpuNum": 8,
    "hideHardwareSpecs": false,
    "memoryGiB": 768,
    "name": "ml.g5.48xlarge",
    "vcpuNum": 192
   },
   {
    "_defaultOrder": 55,
    "_isFastLaunch": false,
    "category": "Accelerated computing",
    "gpuNum": 8,
    "hideHardwareSpecs": false,
    "memoryGiB": 1152,
    "name": "ml.p4d.24xlarge",
    "vcpuNum": 96
   },
   {
    "_defaultOrder": 56,
    "_isFastLaunch": false,
    "category": "Accelerated computing",
    "gpuNum": 8,
    "hideHardwareSpecs": false,
    "memoryGiB": 1152,
    "name": "ml.p4de.24xlarge",
    "vcpuNum": 96
   },
   {
    "_defaultOrder": 57,
    "_isFastLaunch": false,
    "category": "Accelerated computing",
    "gpuNum": 0,
    "hideHardwareSpecs": false,
    "memoryGiB": 32,
    "name": "ml.trn1.2xlarge",
    "vcpuNum": 8
   },
   {
    "_defaultOrder": 58,
    "_isFastLaunch": false,
    "category": "Accelerated computing",
    "gpuNum": 0,
    "hideHardwareSpecs": false,
    "memoryGiB": 512,
    "name": "ml.trn1.32xlarge",
    "vcpuNum": 128
   },
   {
    "_defaultOrder": 59,
    "_isFastLaunch": false,
    "category": "Accelerated computing",
    "gpuNum": 0,
    "hideHardwareSpecs": false,
    "memoryGiB": 512,
    "name": "ml.trn1n.32xlarge",
    "vcpuNum": 128
   }
  ],
  "instance_type": "ml.t3.medium",
  "kernelspec": {
   "display_name": "Python 3 (Data Science 3.0)",
   "language": "python",
   "name": "python3__SAGEMAKER_INTERNAL__arn:aws:sagemaker:us-east-1:081325390199:image/sagemaker-data-science-310-v1"
  },
  "language_info": {
   "codemirror_mode": {
    "name": "ipython",
    "version": 3
   },
   "file_extension": ".py",
   "mimetype": "text/x-python",
   "name": "python",
   "nbconvert_exporter": "python",
   "pygments_lexer": "ipython3",
   "version": "3.10.6"
  }
 },
 "nbformat": 4,
 "nbformat_minor": 5
}
